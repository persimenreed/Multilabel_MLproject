{
 "cells": [
  {
   "cell_type": "code",
   "execution_count": null,
   "id": "a01edbcc-3d3d-4dc2-b2a0-4f7afb7a85e6",
   "metadata": {
    "editable": true,
    "slideshow": {
     "slide_type": ""
    },
    "tags": []
   },
   "outputs": [],
   "source": []
  }
 ],
 "metadata": {
  "kernelspec": {
   "display_name": "",
   "name": ""
  },
  "language_info": {
   "name": ""
  }
 },
 "nbformat": 4,
 "nbformat_minor": 5
}
